{
 "cells": [
  {
   "cell_type": "markdown",
   "id": "c88f2c58-ac1b-42a6-bb24-1510c78058f3",
   "metadata": {},
   "source": [
    "## **Sequences (Lists and Tuples)**\n",
    "## Jarrod Sims"
   ]
  },
  {
   "cell_type": "code",
   "execution_count": 12,
   "id": "ffecfcd3-9b8b-468c-b911-d5cb56f0c536",
   "metadata": {},
   "outputs": [
    {
     "data": {
      "text/plain": [
       "[0, 1, 2, 3, 4, 5, 6, 7, 8, 9]"
      ]
     },
     "execution_count": 12,
     "metadata": {},
     "output_type": "execute_result"
    }
   ],
   "source": [
    "numbers = list(range(0,10))\n",
    "numbers"
   ]
  },
  {
   "cell_type": "code",
   "execution_count": 13,
   "id": "99bf9ecc-e1f2-40c4-8eff-4844894f5624",
   "metadata": {},
   "outputs": [
    {
     "data": {
      "text/plain": [
       "[0, 1, 2, 3, 4, 5, 6, 7, 8]"
      ]
     },
     "execution_count": 13,
     "metadata": {},
     "output_type": "execute_result"
    }
   ],
   "source": [
    "del numbers[-1]\n",
    "numbers"
   ]
  },
  {
   "cell_type": "code",
   "execution_count": 14,
   "id": "89c0b16f-48c0-4c38-b049-a60767989ca5",
   "metadata": {},
   "outputs": [
    {
     "data": {
      "text/plain": [
       "[2, 3, 4, 5, 6, 7, 8]"
      ]
     },
     "execution_count": 14,
     "metadata": {},
     "output_type": "execute_result"
    }
   ],
   "source": [
    "del numbers[0:2]\n",
    "numbers"
   ]
  },
  {
   "cell_type": "code",
   "execution_count": 15,
   "id": "74c2eee6-218d-43c0-9716-05155d63c520",
   "metadata": {},
   "outputs": [
    {
     "data": {
      "text/plain": [
       "[3, 5, 7]"
      ]
     },
     "execution_count": 15,
     "metadata": {},
     "output_type": "execute_result"
    }
   ],
   "source": [
    "del numbers [::2]\n",
    "numbers"
   ]
  },
  {
   "cell_type": "code",
   "execution_count": 16,
   "id": "b1349948-dd53-4d0f-81d4-54675343e7a8",
   "metadata": {},
   "outputs": [
    {
     "data": {
      "text/plain": [
       "[]"
      ]
     },
     "execution_count": 16,
     "metadata": {},
     "output_type": "execute_result"
    }
   ],
   "source": [
    "del numbers[:]\n",
    "numbers"
   ]
  },
  {
   "cell_type": "code",
   "execution_count": 17,
   "id": "6fe2dd03-7c8c-480b-8ce3-0fc468ad9406",
   "metadata": {},
   "outputs": [
    {
     "ename": "NameError",
     "evalue": "name 'numbers' is not defined",
     "output_type": "error",
     "traceback": [
      "\u001b[1;31m---------------------------------------------------------------------------\u001b[0m",
      "\u001b[1;31mNameError\u001b[0m                                 Traceback (most recent call last)",
      "Input \u001b[1;32mIn [17]\u001b[0m, in \u001b[0;36m<cell line: 2>\u001b[1;34m()\u001b[0m\n\u001b[0;32m      1\u001b[0m \u001b[38;5;28;01mdel\u001b[39;00m numbers\n\u001b[1;32m----> 2\u001b[0m \u001b[43mnumbers\u001b[49m\n",
      "\u001b[1;31mNameError\u001b[0m: name 'numbers' is not defined"
     ]
    }
   ],
   "source": [
    "del numbers\n",
    "numbers"
   ]
  },
  {
   "cell_type": "code",
   "execution_count": 18,
   "id": "93b4d408-c99d-4073-8623-7a55607c655c",
   "metadata": {},
   "outputs": [
    {
     "name": "stdout",
     "output_type": "stream",
     "text": [
      "[1, 2, 3, 4, 5, 6, 7, 8, 9, 10, 11, 12, 13, 14, 15]\n",
      "[5, 6, 7, 8, 9, 10, 11, 12, 13, 14, 15]\n",
      "[6, 8, 10, 12, 14]\n"
     ]
    }
   ],
   "source": [
    "numbers = list(range(1,16))\n",
    "print(numbers)\n",
    "del numbers[0:4]\n",
    "print(numbers)\n",
    "del numbers[::2]\n",
    "print(numbers)"
   ]
  },
  {
   "cell_type": "markdown",
   "id": "ff83644f-b268-4f83-b8ee-f0f90c8e6652",
   "metadata": {},
   "source": [
    "## Jarrod Sims"
   ]
  },
  {
   "cell_type": "code",
   "execution_count": 19,
   "id": "15e75b44-968b-4120-b261-54df27bc2033",
   "metadata": {},
   "outputs": [
    {
     "data": {
      "text/plain": [
       "[20, 6, 14, 2, 18]"
      ]
     },
     "execution_count": 19,
     "metadata": {},
     "output_type": "execute_result"
    }
   ],
   "source": [
    "def modify_elements(items):\n",
    "    for i in range(len(items)):\n",
    "        items[i] *= 2\n",
    "        \n",
    "numbers = [10, 3, 7, 1, 9]\n",
    "modify_elements(numbers)\n",
    "numbers"
   ]
  },
  {
   "cell_type": "code",
   "execution_count": null,
   "id": "486f765d-15a0-41d2-8fa9-d55850119fbb",
   "metadata": {},
   "outputs": [],
   "source": []
  }
 ],
 "metadata": {
  "kernelspec": {
   "display_name": "Python 3 (ipykernel)",
   "language": "python",
   "name": "python3"
  },
  "language_info": {
   "codemirror_mode": {
    "name": "ipython",
    "version": 3
   },
   "file_extension": ".py",
   "mimetype": "text/x-python",
   "name": "python",
   "nbconvert_exporter": "python",
   "pygments_lexer": "ipython3",
   "version": "3.9.12"
  }
 },
 "nbformat": 4,
 "nbformat_minor": 5
}
